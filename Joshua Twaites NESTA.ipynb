{
 "cells": [
  {
   "cell_type": "markdown",
   "metadata": {},
   "source": [
    "# Introduction: Build an alternative occupation classification.\n",
    "\n",
    "## Problem statement:\n",
    "Construct a hierarchy of Jobs, using the available data\n",
    "\n",
    "In order to create a hierarchy, jobs must be clustered together; given that there are no 'correct' labels, this is an unsupervised learning problem. Specifically, I am going to solve this problem with unsupervised clustering.\n",
    "\n",
    "The first step is to investigate the data and use this to decide how I will cluster the data."
   ]
  },
  {
   "cell_type": "markdown",
   "metadata": {},
   "source": [
    "### Import data and libs"
   ]
  },
  {
   "cell_type": "code",
   "execution_count": 1,
   "metadata": {},
   "outputs": [],
   "source": [
    "import pandas as pd\n",
    "import numpy as np\n",
    "from scipy import stats as st\n",
    "import matplotlib.pyplot as plt\n",
    "from sklearn.metrics import silhouette_score\n",
    "from sklearn.feature_extraction.text import TfidfTransformer\n",
    "from nltk import word_tokenize\n",
    "from nltk.stem import WordNetLemmatizer\n",
    "from sklearn.feature_extraction.text import CountVectorizer as CV\n",
    "from scipy.cluster import hierarchy as clust\n",
    "from scipy.cluster.hierarchy import linkage\n",
    "from scipy.spatial.distance import cdist\n",
    "\n",
    "np.random.seed(42)"
   ]
  },
  {
   "cell_type": "markdown",
   "metadata": {},
   "source": [
    "### Caution:\n",
    "This may also need some NLTK downloads to work, I will assume you have them already\n",
    "\n",
    "### Also:\n",
    "I don't know the protcols for emailing IPython notebooks, so I have left the file paths as they are. Please change them to suit you obviously."
   ]
  },
  {
   "cell_type": "code",
   "execution_count": 2,
   "metadata": {},
   "outputs": [],
   "source": [
    "job_list = pd.read_csv('C:\\\\Users\\\\x\\Documents\\\\Jobs\\\\NESTA\\\\occupations_en.csv')\n",
    "skills_list = pd.read_csv('C:\\\\Users\\\\x\\Documents\\\\Jobs\\\\NESTA\\\\skills_en.csv')\n",
    "cross_tab =  pd.read_json('C:\\\\Users\\\\x\\Documents\\\\Jobs\\\\NESTA\\\\ESCO_occup_skills.json')"
   ]
  },
  {
   "cell_type": "markdown",
   "metadata": {},
   "source": [
    "### Basic data exploration:\n",
    "Investigate what the data looks like and what shape it is; this was also done visually in excel."
   ]
  },
  {
   "cell_type": "code",
   "execution_count": 3,
   "metadata": {},
   "outputs": [
    {
     "name": "stdout",
     "output_type": "stream",
     "text": [
      "Skill list shape is : (13485, 7)\n",
      "\n",
      "Columns are: Index(['conceptType', 'conceptUri', 'skillType', 'reuseLevel',\n",
      "       'preferredLabel', 'altLabels', 'description'],\n",
      "      dtype='object')\n",
      "\n",
      "Column types\n",
      "object conceptType\n",
      "object conceptUri\n",
      "object skillType\n",
      "object reuseLevel\n",
      "object preferredLabel\n",
      "object altLabels\n",
      "object description\n"
     ]
    }
   ],
   "source": [
    "print('Skill list shape is :', skills_list.shape, end = '\\n\\n')\n",
    "print('Columns are:', skills_list.columns, end = '\\n\\n')\n",
    "print('Column types')\n",
    "for i in skills_list.columns:\n",
    "\tprint(skills_list[i].dtype, i)\n"
   ]
  },
  {
   "cell_type": "code",
   "execution_count": 4,
   "metadata": {},
   "outputs": [
    {
     "name": "stdout",
     "output_type": "stream",
     "text": [
      "Job list shape is: (2942, 6)\n",
      "\n",
      "Columns are: Index(['conceptType', 'conceptUri', 'iscoGroup', 'preferredLabel', 'altLabels',\n",
      "       'description'],\n",
      "      dtype='object')\n",
      "\n",
      "Column types\n",
      "object conceptType\n",
      "object conceptUri\n",
      "int64 iscoGroup\n",
      "object preferredLabel\n",
      "object altLabels\n",
      "object description\n"
     ]
    }
   ],
   "source": [
    "print('Job list shape is:', job_list.shape, end = '\\n\\n')\n",
    "print('Columns are:', job_list.columns, end = '\\n\\n')\n",
    "print('Column types')\n",
    "for i in job_list.columns:\n",
    "\tprint(job_list[i].dtype, i)\n"
   ]
  },
  {
   "cell_type": "code",
   "execution_count": 5,
   "metadata": {
    "scrolled": true
   },
   "outputs": [
    {
     "name": "stdout",
     "output_type": "stream",
     "text": [
      "Cross table shape is: (15, 2942)\n",
      "\n",
      "Cross table indexes are: Index(['className', 'classId', 'uri', 'title', 'referenceLanguage',\n",
      "       'preferredLabel', 'alternativeLabel', 'preferredTerm',\n",
      "       'alternativeTerms', 'description', 'status', '_links', '_embedded',\n",
      "       'scopeNote', 'definition'],\n",
      "      dtype='object')\n"
     ]
    }
   ],
   "source": [
    "print('Cross table shape is:',cross_tab.shape, end = '\\n\\n')\n",
    "print('Cross table indexes are:', cross_tab.index)"
   ]
  },
  {
   "cell_type": "markdown",
   "metadata": {},
   "source": [
    "### Actual clustering part\n",
    "In order to form clusters with jobs, we need to decide on some features and a similarity measure. Some potential features come from:\n",
    "- Job titles,\n",
    "- Job description,\n",
    "- Required skills.\n",
    "\n",
    "If I choose Job title then all I can really say is that the jobs sound alike, which is unlikely to impact policy. \n",
    "\n",
    "Hence, I will use the Job description and the required skills"
   ]
  },
  {
   "cell_type": "markdown",
   "metadata": {},
   "source": [
    "### Invesitigating Required Skills\n",
    "I create an adjacency matrix $A$ (#skills X #jobs) such that\n",
    "\n",
    "\n",
    "$$\\begin{equation}\n",
    "    A_{i,j}=\n",
    "    \\begin{cases}\n",
    "      10, & \\text{if Job}_j \\text{  has Essential Skill}_j \\\\\n",
    "      1, & \\text{if Job}_j \\text{  has Optional Skill}_j \\\\\n",
    "      0, & \\text{Else} \\\\\n",
    "    \\end{cases}\n",
    "\\end{equation}$$\n",
    "\n",
    "This allows for easier inspection of the required skills and how they are distributed."
   ]
  },
  {
   "cell_type": "code",
   "execution_count": 6,
   "metadata": {},
   "outputs": [],
   "source": [
    "# Create each edge\n",
    "## Input: list of skills, job and value of edge\n",
    "## Output: edge and edge index\n",
    "def to_edges(x, y, val):\n",
    "\tedge = np.zeros(skills_list.shape[0])\n",
    "\tnon_zero = np.array([skills_list[skills_list['preferredLabel'] == z].index[0] for z in x])\n",
    "\tedge[non_zero]=val\n",
    "\tjob_loc = job_list[job_list['preferredLabel'] == y].index[0]\n",
    "\treturn edge, job_loc\n",
    "\n",
    "# Create overall adjaceny matrix\n",
    "## Input: Job and skill tables\n",
    "## TODO: Speed up, use CountVectoriser\n",
    "## Output: matrix\n",
    "def create_matrix(job_list, skills_list):\n",
    "\tadj_matrix = np.zeros((job_list.shape[0], skills_list.shape[0]))\n",
    "\tfor i in job_list['preferredLabel']:\n",
    "\t\tif 'hasEssentialSkill' in cross_tab[i]['_links']:\n",
    "\t\t\tx = cross_tab[i]['_links']['hasEssentialSkill']\n",
    "\t\t\tx = [z['title'] for z in x]\n",
    "\t\t\tedge, job_loc = to_edges(x, i, 10)\n",
    "\t\t\tadj_matrix[job_loc] += edge\n",
    "\t\tif 'hasOptionalSkill' in cross_tab[i]['_links']:\n",
    "\t\t\tx = cross_tab[i]['_links']['hasOptionalSkill']\n",
    "\t\t\tx = [z['title'] for z in x]\n",
    "\t\t\tedge, job_loc = to_edges(x, i, 1)\n",
    "\t\t\tadj_matrix[job_loc] += edge\n",
    "\treturn adj_matrix\n",
    "\n",
    "adj_matrix = create_matrix(job_list, skills_list)"
   ]
  },
  {
   "cell_type": "markdown",
   "metadata": {},
   "source": [
    "Find the frequency of both skills and jobs"
   ]
  },
  {
   "cell_type": "code",
   "execution_count": 7,
   "metadata": {},
   "outputs": [],
   "source": [
    "# Count how many skills each job has\n",
    "numberOfEssentialSkills = np.sum(adj_matrix==10, 1)\n",
    "numberOfOptionalSkills = np.sum(adj_matrix==1, 1)\n",
    "\n",
    "# Number of jobs each skills used\n",
    "numberOfEssentialJobs = np.sum(adj_matrix==10, 0)\n",
    "numberOfOptionalJobs = np.sum(adj_matrix==1, 0)"
   ]
  },
  {
   "cell_type": "markdown",
   "metadata": {},
   "source": [
    "Descibe the essential Jobs:\n",
    "\n",
    "- Basic stats on skills\n",
    "- Find the jobs with the least and most skills\n",
    "- Plot histogram of skill distribution\n",
    "- Plot freqency \n",
    "    "
   ]
  },
  {
   "cell_type": "code",
   "execution_count": 8,
   "metadata": {},
   "outputs": [
    {
     "name": "stdout",
     "output_type": "stream",
     "text": [
      "DescribeResult(nobs=2942, minmax=(0, 136), mean=20.45615227736234, variance=133.93738308187002, skewness=2.7231162139727263, kurtosis=11.876116063904101)\n",
      "\n",
      "Series([], Name: preferredLabel, dtype: object)\n",
      "\n",
      "specialist dentist\n",
      "\n",
      "2958    provide healthcare services to patients in gen...\n",
      "Name: preferredLabel, dtype: object\n",
      "\n",
      "general practitioner\n",
      "\n",
      "12137    provide healthcare services to patients in spe...\n",
      "Name: preferredLabel, dtype: object\n",
      "\n",
      "specialised doctor\n",
      "\n",
      "7027    energy efficiency\n",
      "Name: preferredLabel, dtype: object\n",
      "\n",
      "energy consultant\n",
      "\n",
      "832     comply with food safety and hygiene\n",
      "4779               maintain linen operation\n",
      "Name: preferredLabel, dtype: object\n",
      "\n",
      "linen room attendant\n",
      "\n",
      "4071            fishing gear\n",
      "6292    pollution prevention\n",
      "Name: preferredLabel, dtype: object\n",
      "\n",
      "fishing net maker\n",
      "\n",
      "289     load animals for transportation\n",
      "758             control animal movement\n",
      "7723              manage animal hygiene\n",
      "Name: preferredLabel, dtype: object\n",
      "\n",
      "catcher\n",
      "\n",
      "483                         distinguish accessories\n",
      "4283                        maintain work standards\n",
      "5855                            distinguish fabrics\n",
      "13375    challenging issues in the textile industry\n",
      "Name: preferredLabel, dtype: object\n",
      "\n",
      "textile operations manager\n",
      "\n",
      "3575                                    measure yarn count\n",
      "4283                               maintain work standards\n",
      "13375           challenging issues in the textile industry\n",
      "13384    check quality of products in textile productio...\n",
      "Name: preferredLabel, dtype: object\n",
      "\n",
      "textile quality manager\n",
      "\n",
      "107          contribute to quality physiotherapy services\n",
      "160                          create solutions to problems\n",
      "202         respond to changing situations in health care\n",
      "479                  educate on the prevention of illness\n",
      "502                       radiation effects on human body\n",
      "                               ...                       \n",
      "13079                               apply massage therapy\n",
      "13100                           accept own accountability\n",
      "13279    perform clinical neurophysiological examinations\n",
      "13310                          formulate a treatment plan\n",
      "13358             provide stabilisation care in emergency\n",
      "Name: preferredLabel, Length: 136, dtype: object\n",
      "\n",
      "chiropractor\n",
      "\n",
      "202          respond to changing situations in health care\n",
      "321                apply related sciences to music therapy\n",
      "479                   educate on the prevention of illness\n",
      "585      inform policy makers on health-related challenges\n",
      "762                                psychiatric diagnostics\n",
      "                               ...                        \n",
      "12189         use music according to the needs of patients\n",
      "12364               work in multidisciplinary health teams\n",
      "12470                               psychological theories\n",
      "13100                            accept own accountability\n",
      "13402    provide feedback on patient's communication style\n",
      "Name: preferredLabel, Length: 98, dtype: object\n",
      "\n",
      "music therapist\n",
      "\n",
      "202          respond to changing situations in health care\n",
      "404                                       clinical reports\n",
      "479                   educate on the prevention of illness\n",
      "585      inform policy makers on health-related challenges\n",
      "731        employ cognitive behaviour treatment techniques\n",
      "                               ...                        \n",
      "12577             decide upon a psychotherapeutic approach\n",
      "13000                                            first aid\n",
      "13100                            accept own accountability\n",
      "13143                                           psychiatry\n",
      "13147                      promote psycho-social education\n",
      "Name: preferredLabel, Length: 95, dtype: object\n",
      "\n",
      "clinical psychologist\n",
      "\n",
      "5                        perform toxicological studies\n",
      "76                                  biomedical science\n",
      "181                       techniques of blood-sampling\n",
      "182                   hygiene in a health care setting\n",
      "202      respond to changing situations in health care\n",
      "                             ...                      \n",
      "12354                             radiation protection\n",
      "12364           work in multidisciplinary health teams\n",
      "12427                    apply good clinical practices\n",
      "12837               support blood transfusion services\n",
      "13100                        accept own accountability\n",
      "Name: preferredLabel, Length: 90, dtype: object\n",
      "\n",
      "biomedical scientist\n",
      "\n",
      "182                       hygiene in a health care setting\n",
      "202          respond to changing situations in health care\n",
      "479                   educate on the prevention of illness\n",
      "585      inform policy makers on health-related challenges\n",
      "845                   provide professional care in nursing\n",
      "                               ...                        \n",
      "12689                                            dietetics\n",
      "13000                                            first aid\n",
      "13100                            accept own accountability\n",
      "13124                               implement nursing care\n",
      "13143                                           psychiatry\n",
      "Name: preferredLabel, Length: 90, dtype: object\n",
      "\n",
      "nurse responsible for general care\n",
      "\n",
      "107       contribute to quality physiotherapy services\n",
      "160                       create solutions to problems\n",
      "202      respond to changing situations in health care\n",
      "334                    manage a healthcare unit budget\n",
      "479               educate on the prevention of illness\n",
      "                             ...                      \n",
      "12984                 maintain physiotherapy equipment\n",
      "13000                                        first aid\n",
      "13100                        accept own accountability\n",
      "13143                                       psychiatry\n",
      "13310                       formulate a treatment plan\n",
      "Name: preferredLabel, Length: 90, dtype: object\n",
      "\n",
      "physiotherapist\n",
      "\n",
      "202          respond to changing situations in health care\n",
      "404                                       clinical reports\n",
      "479                   educate on the prevention of illness\n",
      "495                           encourage healthy behaviours\n",
      "585      inform policy makers on health-related challenges\n",
      "                               ...                        \n",
      "13051                   analyse health damaging behaviours\n",
      "13100                            accept own accountability\n",
      "13143                                           psychiatry\n",
      "13147                      promote psycho-social education\n",
      "13309                provide health psychological analysis\n",
      "Name: preferredLabel, Length: 82, dtype: object\n",
      "\n",
      "health psychologist\n",
      "\n",
      "2                          apply anti-oppressive practices\n",
      "496                             provide social counselling\n",
      "709                                     social work theory\n",
      "835                                    counselling methods\n",
      "938                             guarantee students' safety\n",
      "                               ...                        \n",
      "12778                cooperate at inter-professional level\n",
      "13004                                     company policies\n",
      "13100                            accept own accountability\n",
      "13243                        manage stress in organisation\n",
      "13356    build helping relationship with social service...\n",
      "Name: preferredLabel, Length: 82, dtype: object\n",
      "\n",
      "social work lecturer\n",
      "\n",
      "2                          apply anti-oppressive practices\n",
      "496                             provide social counselling\n",
      "709                                     social work theory\n",
      "835                                    counselling methods\n",
      "938                             guarantee students' safety\n",
      "                               ...                        \n",
      "13022                                     counsel students\n",
      "13100                            accept own accountability\n",
      "13243                        manage stress in organisation\n",
      "13356    build helping relationship with social service...\n",
      "13368           tackle issues that block academic progress\n",
      "Name: preferredLabel, Length: 79, dtype: object\n",
      "\n",
      "education welfare officer\n",
      "\n"
     ]
    }
   ],
   "source": [
    "print(st.describe(numberOfEssentialSkills), end = '\\n\\n' )\n",
    "\n",
    "# Print the jobs with the lowest number of required skills\n",
    "lowest_10_jobs = adj_matrix[np.argsort(numberOfEssentialSkills)[:9]]\n",
    "for i, j in enumerate(lowest_10_jobs):\n",
    "\tprint(skills_list['preferredLabel'][j==10], end = '\\n\\n')\n",
    "\tprint(job_list['preferredLabel'][np.argsort(numberOfEssentialSkills)[i]], end = '\\n\\n')\n",
    "\n",
    "# Print the jobs with the highest number of required skills\n",
    "highest_10_jobs = adj_matrix[np.argsort(-numberOfEssentialSkills)[:9]]\n",
    "for i, j in enumerate(highest_10_jobs):\n",
    "\tprint(skills_list['preferredLabel'][j==10], end = '\\n\\n')\n",
    "\tprint(job_list['preferredLabel'][np.argsort(-numberOfEssentialSkills)[i]], end = '\\n\\n')\n",
    "\n",
    "\n"
   ]
  },
  {
   "cell_type": "code",
   "execution_count": 9,
   "metadata": {},
   "outputs": [
    {
     "data": {
      "image/png": "[encoded data removed]",
      "text/plain": [
       "<Figure size 432x288 with 1 Axes>"
      ]
     },
     "metadata": {
      "needs_background": "light"
     },
     "output_type": "display_data"
    },
    {
     "data": {
      "image/png": "[encoded data removed]",
      "text/plain": [
       "<Figure size 432x288 with 1 Axes>"
      ]
     },
     "metadata": {
      "needs_background": "light"
     },
     "output_type": "display_data"
    }
   ],
   "source": [
    "plt.hist(numberOfEssentialSkills)\n",
    "plt.title('Essential Skill Distribution')\n",
    "plt.xlabel('Number of skills required for the job')\n",
    "plt.ylabel('Frequency')\n",
    "plt.show()\n",
    "\n",
    "plt.plot(numberOfEssentialSkills)\n",
    "plt.title('Essential Skill Frequency')\n",
    "plt.xlabel('Job index')\n",
    "plt.ylabel('Number of skills required for the job')\n",
    "plt.show()"
   ]
  },
  {
   "cell_type": "markdown",
   "metadata": {},
   "source": [
    "This tells us that some of the skills are really specific whereas some are much more general, very akin to words.\n",
    "And specialist dentist is likely a mistake as it has no essential skills, or it really easy to become a specialist dentist."
   ]
  },
  {
   "cell_type": "markdown",
   "metadata": {},
   "source": [
    "Descibe the essential skills:\n",
    "\n",
    "- Basic stats on Jobs\n",
    "- Find the skills with the least and most jobs\n",
    "- Plot histogram of job distribution\n",
    "- Plot frequency "
   ]
  },
  {
   "cell_type": "code",
   "execution_count": 10,
   "metadata": {},
   "outputs": [
    {
     "name": "stdout",
     "output_type": "stream",
     "text": [
      "DescribeResult(nobs=13485, minmax=(0, 254), mean=4.462884686688914, variance=152.76376993367606, skewness=8.271104667909437, kurtosis=100.71513879072754)\n",
      "\n",
      "Series([], Name: preferredLabel, dtype: object)\n",
      "\n",
      "report unsafe behaviour\n",
      "\n",
      "Series([], Name: preferredLabel, dtype: object)\n",
      "\n",
      "manage construction archive\n",
      "\n",
      "Series([], Name: preferredLabel, dtype: object)\n",
      "\n",
      "provide individual exercise programmes\n",
      "\n",
      "Series([], Name: preferredLabel, dtype: object)\n",
      "\n",
      "follow environmentally-sustainable work practices\n",
      "\n",
      "Series([], Name: preferredLabel, dtype: object)\n",
      "\n",
      "make architectural mock-ups\n",
      "\n",
      "Series([], Name: preferredLabel, dtype: object)\n",
      "\n",
      "perform pathology consultations\n",
      "\n",
      "Series([], Name: preferredLabel, dtype: object)\n",
      "\n",
      "shine shoes\n",
      "\n",
      "Series([], Name: preferredLabel, dtype: object)\n",
      "\n",
      "install scaffolding pump jacks\n",
      "\n",
      "Series([], Name: preferredLabel, dtype: object)\n",
      "\n",
      "motivate supporters\n",
      "\n",
      "4                 hospitality revenue manager\n",
      "12                       tobacco shop manager\n",
      "14                              mine surveyor\n",
      "20                                  head chef\n",
      "22      head of higher education institutions\n",
      "                        ...                  \n",
      "2876                         port coordinator\n",
      "2879            child day care centre manager\n",
      "2883                  housekeeping supervisor\n",
      "2886                          archive manager\n",
      "2899                         airport director\n",
      "Name: preferredLabel, Length: 254, dtype: object\n",
      "\n",
      "manage staff\n",
      "\n",
      "8                                         physiotherapist\n",
      "18        import export manager in meat and meat products\n",
      "19                                 housing policy officer\n",
      "45                               footwear quality manager\n",
      "47      electronic and telecommunications equipment an...\n",
      "                              ...                        \n",
      "2899                                     airport director\n",
      "2908           import export manager in chemical products\n",
      "2919                           industrial quality manager\n",
      "2924                                   live chat operator\n",
      "2925                            recreation policy officer\n",
      "Name: preferredLabel, Length: 240, dtype: object\n",
      "\n",
      "create solutions to problems\n",
      "\n",
      "1                metal drawing machine operator\n",
      "2                    precision device inspector\n",
      "38                     coating machine operator\n",
      "51                    aircraft engine assembler\n",
      "57      container equipment assembly supervisor\n",
      "                         ...                   \n",
      "2891                 surface treatment operator\n",
      "2902              paperboard products assembler\n",
      "2913                       punch press operator\n",
      "2919                 industrial quality manager\n",
      "2941                    motor vehicle assembler\n",
      "Name: preferredLabel, Length: 239, dtype: object\n",
      "\n",
      "quality standards\n",
      "\n",
      "1       metal drawing machine operator\n",
      "2           precision device inspector\n",
      "36      petroleum pump system operator\n",
      "40                      gear machinist\n",
      "51           aircraft engine assembler\n",
      "                     ...              \n",
      "2915              solid waste operator\n",
      "2916         rolling stock electrician\n",
      "2922         electric meter technician\n",
      "2929             air pollution analyst\n",
      "2941           motor vehicle assembler\n",
      "Name: preferredLabel, Length: 236, dtype: object\n",
      "\n",
      "troubleshoot\n",
      "\n",
      "13      rental service representative in machinery, eq...\n",
      "18        import export manager in meat and meat products\n",
      "47      electronic and telecommunications equipment an...\n",
      "128           wholesale merchant in perfume and cosmetics\n",
      "156     import export manager in agricultural machiner...\n",
      "                              ...                        \n",
      "2899                                     airport director\n",
      "2908           import export manager in chemical products\n",
      "2917           wholesale merchant in fruit and vegetables\n",
      "2924                                   live chat operator\n",
      "2931                  community development social worker\n",
      "Name: preferredLabel, Length: 236, dtype: object\n",
      "\n",
      "have computer literacy\n",
      "\n",
      "8                                         physiotherapist\n",
      "10                         hydrogenation machine operator\n",
      "11                                         pasta operator\n",
      "12                                   tobacco shop manager\n",
      "32              shoe and leather accessories shop manager\n",
      "                              ...                        \n",
      "2854                              physiotherapy assistant\n",
      "2856           eyewear and optical equipment shop manager\n",
      "2861    coffee, tea, cocoa and spices distribution man...\n",
      "2879                        child day care centre manager\n",
      "2931                  community development social worker\n",
      "Name: preferredLabel, Length: 233, dtype: object\n",
      "\n",
      "adhere to organisational guidelines\n",
      "\n",
      "8                                  physiotherapist\n",
      "12                            tobacco shop manager\n",
      "17                                      bus driver\n",
      "32       shoe and leather accessories shop manager\n",
      "53                audiology equipment shop manager\n",
      "                           ...                    \n",
      "2874                              forestry adviser\n",
      "2899                              airport director\n",
      "2903    international student exchange coordinator\n",
      "2909                              investment clerk\n",
      "2940          civil service administrative officer\n",
      "Name: preferredLabel, Length: 191, dtype: object\n",
      "\n",
      "use different communication channels\n",
      "\n",
      "12                            tobacco shop manager\n",
      "20                                       head chef\n",
      "32       shoe and leather accessories shop manager\n",
      "33                          tour operators manager\n",
      "41                          rooms division manager\n",
      "                           ...                    \n",
      "2832                         political party agent\n",
      "2836                      second-hand shop manager\n",
      "2856    eyewear and optical equipment shop manager\n",
      "2883                       housekeeping supervisor\n",
      "2886                               archive manager\n",
      "Name: preferredLabel, Length: 183, dtype: object\n",
      "\n",
      "manage budgets\n",
      "\n",
      "13      rental service representative in machinery, eq...\n",
      "54                  hardware and paint specialised seller\n",
      "81                    fish and seafood specialised seller\n",
      "89                                 recruitment consultant\n",
      "109                                           spa manager\n",
      "                              ...                        \n",
      "2884                                 construction manager\n",
      "2889                                        gaming dealer\n",
      "2914                        solar energy sales consultant\n",
      "2917           wholesale merchant in fruit and vegetables\n",
      "2932                renewable energy sales representative\n",
      "Name: preferredLabel, Length: 181, dtype: object\n",
      "\n",
      "identify customer's needs\n",
      "\n"
     ]
    }
   ],
   "source": [
    "print(st.describe(numberOfEssentialJobs), end = '\\n\\n')\n",
    "\n",
    "# describe the 10 least common skills and least in which jobs they occour\n",
    "lowest_10_jobs = adj_matrix[:, np.argsort(numberOfEssentialJobs)[:9]]\n",
    "for i, j in enumerate(lowest_10_jobs.T):\n",
    "\tprint(job_list['preferredLabel'][j==10], end = '\\n\\n')\n",
    "\tprint(skills_list['preferredLabel'][np.argsort(numberOfEssentialJobs)[i]], end = '\\n\\n')\n",
    "\n",
    "# describe the 10 most common skills and least in whcih jobs they occour\n",
    "highest_10_jobs = adj_matrix[:, np.argsort(-numberOfEssentialJobs)[:9]]\n",
    "for i, j in enumerate(highest_10_jobs.T):\n",
    "\tprint(job_list['preferredLabel'][j==10], end = '\\n\\n')\n",
    "\tprint(skills_list['preferredLabel'][np.argsort(-numberOfEssentialJobs)[i]], end = '\\n\\n')\n"
   ]
  },
  {
   "cell_type": "code",
   "execution_count": 11,
   "metadata": {},
   "outputs": [
    {
     "data": {
      "image/png": "[encoded data removed]",
      "text/plain": [
       "<Figure size 432x288 with 1 Axes>"
      ]
     },
     "metadata": {
      "needs_background": "light"
     },
     "output_type": "display_data"
    },
    {
     "data": {
      "image/png": "[encoded data removed]",
      "text/plain": [
       "<Figure size 432x288 with 1 Axes>"
      ]
     },
     "metadata": {
      "needs_background": "light"
     },
     "output_type": "display_data"
    }
   ],
   "source": [
    "plt.hist(numberOfEssentialJobs)\n",
    "plt.title('Essential Job Distribution')\n",
    "plt.xlabel('Number of jobs that require the skill')\n",
    "plt.ylabel('Frequency')\n",
    "plt.show()\n",
    "\n",
    "plt.plot(numberOfEssentialJobs)\n",
    "plt.title('Essential Job frequencies')\n",
    "plt.xlabel('Skill index')\n",
    "plt.ylabel('Number of jobs that require the skill')\n",
    "plt.show()\n"
   ]
  },
  {
   "cell_type": "markdown",
   "metadata": {},
   "source": [
    "This tells us that some of the jobs require lots of skills whereas most requires only a few specific ones. There are also a bunch of skills that are not actually in the data set. In general, I can leave these as they won't really impact the data, although I could also remove them.\n",
    "\n",
    "The frequency plots are very similar to what we would see in an NLP problem, with each skill representing a word and each job a sentence.\n",
    "\n",
    "As such is makes sense to treat this as a NLP problem, with the Adjacency matrix being equivalent to a bag of words representation. Because of this I can now undertake some pre-processing which is NLP specific, TF_IDF transformation, which decreases the weights of 'popular skills' and prioritises the more specific ones."
   ]
  },
  {
   "cell_type": "code",
   "execution_count": 12,
   "metadata": {},
   "outputs": [],
   "source": [
    "# TFIDF transforms the BOW so  popular 'words' (skills) are unweighted\n",
    "trans = TfidfTransformer()\n",
    "tf_idf_matrix = trans.fit_transform(adj_matrix).toarray()"
   ]
  },
  {
   "cell_type": "markdown",
   "metadata": {},
   "source": [
    "### Job description\n",
    "This requires slightly less description because I already know that it is an NLP problem. \n",
    "\n",
    "First, I remove all punctuation, and transform all words into 'lemma' form, e.. transforming the words into their simplest format.\n",
    "\n",
    "I then transform this into a Bag of Words, in essence creating a matrix very similar to the adjacency matrix.\n",
    "\n",
    "$$\\begin{equation}\n",
    "    A_{i,j}=\n",
    "    \\begin{cases}\n",
    "      1, & \\text{if word}_i \\text{  is in Job description}_j \\\\\n",
    "      0, & \\text{Else} \\\\\n",
    "    \\end{cases}\n",
    "\\end{equation}$$\n",
    "\n",
    "This matrix can then be weighted via TF_IDF transformation, decreasing the weighting of the popular words and prioritising the more specific words. I also do this for job title."
   ]
  },
  {
   "cell_type": "code",
   "execution_count": 13,
   "metadata": {},
   "outputs": [],
   "source": [
    "# Create a joint lemma and count vectoriser\n",
    "class LemmaTokenizer(object):\n",
    "    def __init__(self):\n",
    "        self.wnl = WordNetLemmatizer()\n",
    "    def __call__(self, articles):\n",
    "        return [self.wnl.lemmatize(t) for t in word_tokenize(articles)]\n",
    "\n",
    "tf_vectorizer = CV(tokenizer=LemmaTokenizer(), strip_accents = 'unicode', lowercase = True)\n",
    "# Create a TD-IDF version of the Job description\n",
    "job_description = trans.fit_transform(tf_vectorizer.fit_transform(job_list['description'])).toarray()\n",
    "# Create a TD-IDF version of the Job titles\n",
    "job_title = trans.fit_transform(tf_vectorizer.fit_transform(job_list['preferredLabel'])).toarray()"
   ]
  },
  {
   "cell_type": "markdown",
   "metadata": {},
   "source": [
    "Finally I combine my two newly weighted matrices into one large feature group (Adjacency matrix and Job description)."
   ]
  },
  {
   "cell_type": "code",
   "execution_count": 14,
   "metadata": {},
   "outputs": [],
   "source": [
    "features = np.hstack((job_description, tf_idf_matrix))"
   ]
  },
  {
   "cell_type": "markdown",
   "metadata": {},
   "source": [
    "### Similarity Measure\n",
    "\n",
    "Now that I have my feature matrix, which is a large binary matrix, I can begin to actually cluster stuff. My similarity measure, to determine how 'alike' two jobs are will be the Manhattan distance between the rows which correspond to the jobs (cdist).\n",
    "\n"
   ]
  },
  {
   "cell_type": "markdown",
   "metadata": {},
   "source": [
    "### Actually clustery bit\n",
    "\n",
    "As the goal is to form a hierarchy, the obvious clustering algorithm to use is agglomerative clustering. This clusters the data by joining the two most similar jobs/job cluster, until a given number of classes are reached.\n",
    "\n",
    "At the moment the clustering always tries to break the data into sets of 10, if I have time this will instead be optimised over the silhouette score.\n"
   ]
  },
  {
   "cell_type": "code",
   "execution_count": 15,
   "metadata": {},
   "outputs": [],
   "source": [
    "# Takes distance matrix and use agglomorative\n",
    "# clustering to split into clusters\n",
    "## Input: Distance between features, size of small data set that doesn't need to \n",
    "# be clustered\n",
    "## TODO: Add code that tries other values of K, not just 10\n",
    "## Output: Labels\n",
    "def clusterer(dist_matrix, cutoff):\n",
    "    # Don't bother clustering small data sets\n",
    "\tif dist_matrix.shape[0]<=cutoff:\n",
    "\t\treturn np.repeat(['Z'],dist_matrix.shape[0])\n",
    "\tZ = linkage(dist_matrix, 'ward')\n",
    "    \n",
    "\tlabels_numeric = clust.fcluster(Z, 10, criterion='maxclust')\n",
    "\treturn np.array([chr(64 + int(x)) for x in labels_numeric])\n",
    "\n"
   ]
  },
  {
   "cell_type": "code",
   "execution_count": 16,
   "metadata": {},
   "outputs": [
    {
     "name": "stderr",
     "output_type": "stream",
     "text": [
      "C:\\ProgramData\\Anaconda3\\lib\\site-packages\\ipykernel_launcher.py:11: ClusterWarning: scipy.cluster: The symmetric non-negative hollow observation matrix looks suspiciously like an uncondensed distance matrix\n",
      "  # This is added back by InteractiveShellApp.init_path()\n"
     ]
    }
   ],
   "source": [
    "# With this I create blank codes in Label array. I then find all unique combinations of 'codes'\n",
    "# and cluster these again until I reach a maximum of ten items per cluster (the cut off value in clusterer).\n",
    "\n",
    "# Input: feature array, depth of classification\n",
    "## TODO make code understanable by a human, this was orignially a recursive function that I made iterative, \n",
    "# I would have been better starting from scratch\n",
    "# Output: Code representing the hierarchy\n",
    "\n",
    "def hierarchy_cluster(data_tab, depth):\n",
    "\tlabel_array = np.zeros((data_tab.shape[0],depth+1), dtype=np.object)\n",
    "\tdist_matrix = cdist(data_tab, data_tab)\n",
    "\tlabel_array[:,0] = clusterer(dist_matrix, cutoff=9)\n",
    "\n",
    "\tfor i in np.arange(1, depth):\n",
    "\t\tcodes = np.apply_along_axis(lambda x: ''.join([str(y) for y in x]), 1, label_array)\n",
    "\t\tuniq = np.unique(codes)\n",
    "\t\tfor j in uniq:\n",
    "\t\t\tif j.replace('0', '')[-1]!='Z' :\n",
    "\t\t\t\tnew_labels = clusterer(dist_matrix[codes==j], cutoff=10)\n",
    "\t\t\t\tlabel_array[codes==j, i] = new_labels\n",
    "\tcodes = np.apply_along_axis(lambda x: ''.join([str(y) for y in x]), 1, label_array)\n",
    "\tcodes = [x.replace('0','X') for x in codes]\n",
    "\treturn codes\n",
    "\n",
    "labels = hierarchy_cluster(features, 9)\n",
    "\n"
   ]
  },
  {
   "cell_type": "markdown",
   "metadata": {},
   "source": [
    "### Clean-up\n",
    "In this part I do some quick clean-up on the data to ensure that the labels are of minimum length and that there are no singular clusters.\n"
   ]
  },
  {
   "cell_type": "code",
   "execution_count": 17,
   "metadata": {},
   "outputs": [
    {
     "data": {
      "text/html": [
       "<div>\n",
       "<style scoped>\n",
       "    .dataframe tbody tr th:only-of-type {\n",
       "        vertical-align: middle;\n",
       "    }\n",
       "\n",
       "    .dataframe tbody tr th {\n",
       "        vertical-align: top;\n",
       "    }\n",
       "\n",
       "    .dataframe thead th {\n",
       "        text-align: right;\n",
       "    }\n",
       "</style>\n",
       "<table border=\"1\" class=\"dataframe\">\n",
       "  <thead>\n",
       "    <tr style=\"text-align: right;\">\n",
       "      <th></th>\n",
       "      <th>preferredLabel</th>\n",
       "      <th>codes</th>\n",
       "    </tr>\n",
       "  </thead>\n",
       "  <tbody>\n",
       "    <tr>\n",
       "      <td>0</td>\n",
       "      <td>technical director</td>\n",
       "      <td>GEBZZXXXX</td>\n",
       "    </tr>\n",
       "    <tr>\n",
       "      <td>1</td>\n",
       "      <td>metal drawing machine operator</td>\n",
       "      <td>GHICZXXXX</td>\n",
       "    </tr>\n",
       "    <tr>\n",
       "      <td>2</td>\n",
       "      <td>precision device inspector</td>\n",
       "      <td>GGJEHZXXX</td>\n",
       "    </tr>\n",
       "    <tr>\n",
       "      <td>3</td>\n",
       "      <td>air traffic safety technician</td>\n",
       "      <td>GGFHIFZXX</td>\n",
       "    </tr>\n",
       "    <tr>\n",
       "      <td>4</td>\n",
       "      <td>hospitality revenue manager</td>\n",
       "      <td>GGFAEZXXX</td>\n",
       "    </tr>\n",
       "    <tr>\n",
       "      <td>...</td>\n",
       "      <td>...</td>\n",
       "      <td>...</td>\n",
       "    </tr>\n",
       "    <tr>\n",
       "      <td>2937</td>\n",
       "      <td>demographer</td>\n",
       "      <td>GGHEZZXXX</td>\n",
       "    </tr>\n",
       "    <tr>\n",
       "      <td>2938</td>\n",
       "      <td>sorter labourer</td>\n",
       "      <td>GGJHZZXXX</td>\n",
       "    </tr>\n",
       "    <tr>\n",
       "      <td>2939</td>\n",
       "      <td>armoured car guard</td>\n",
       "      <td>GGFHHZZXX</td>\n",
       "    </tr>\n",
       "    <tr>\n",
       "      <td>2940</td>\n",
       "      <td>civil service administrative officer</td>\n",
       "      <td>GGFHHZZXX</td>\n",
       "    </tr>\n",
       "    <tr>\n",
       "      <td>2941</td>\n",
       "      <td>motor vehicle assembler</td>\n",
       "      <td>GIFZXXXXX</td>\n",
       "    </tr>\n",
       "  </tbody>\n",
       "</table>\n",
       "<p>2942 rows × 2 columns</p>\n",
       "</div>"
      ],
      "text/plain": [
       "                            preferredLabel      codes\n",
       "0                       technical director  GEBZZXXXX\n",
       "1           metal drawing machine operator  GHICZXXXX\n",
       "2               precision device inspector  GGJEHZXXX\n",
       "3            air traffic safety technician  GGFHIFZXX\n",
       "4              hospitality revenue manager  GGFAEZXXX\n",
       "...                                    ...        ...\n",
       "2937                           demographer  GGHEZZXXX\n",
       "2938                       sorter labourer  GGJHZZXXX\n",
       "2939                    armoured car guard  GGFHHZZXX\n",
       "2940  civil service administrative officer  GGFHHZZXX\n",
       "2941               motor vehicle assembler  GIFZXXXXX\n",
       "\n",
       "[2942 rows x 2 columns]"
      ]
     },
     "execution_count": 17,
     "metadata": {},
     "output_type": "execute_result"
    }
   ],
   "source": [
    "# cleanup long labels\n",
    "max_depth = np.max([x.index('X') for x in labels])\n",
    "trimmed_codes = np.array([x[:(max_depth)] for x in labels])\n",
    "\n",
    "# For all singular clusters, move them upone level so that can are not alone\n",
    "# Input: Codes and size of minimum cluster\n",
    "# Output: Codes with no cluster smaller than minimum\n",
    "def de_singular(codes, minimum):\n",
    "\tnew_lab = np.copy(codes)\n",
    "\tfor i, j in enumerate(codes):\n",
    "\t\tcount = np.sum(codes==j)\n",
    "\t\tif count<minimum:\n",
    "\t\t\tnew_lab[i] = j[:j.index('Z')-1]+'Z' + j[j.index('Z'):]\n",
    "\t\telse:\n",
    "\t\t\tnew_lab[i] = j\n",
    "\treturn new_lab\n",
    "\n",
    "trimmed_codes = de_singular(trimmed_codes, 4)\n",
    "    \n",
    "# Create the actual table\n",
    "job_list['codes'] = trimmed_codes\n",
    "job_codes = job_list[['preferredLabel', 'codes']]\n",
    "job_codes"
   ]
  },
  {
   "cell_type": "markdown",
   "metadata": {},
   "source": [
    "# Performance of clustering\n",
    "Now that data has been clustered, the performance will be computed.  For each cluster, the average number of dissimilar words in each cluster can be computed, this gives a vague notion of success."
   ]
  },
  {
   "cell_type": "code",
   "execution_count": 18,
   "metadata": {},
   "outputs": [],
   "source": [
    "def solution_scorer(i):\n",
    "\tcv = CV()\n",
    "\tword_array = cv.fit_transform(i['preferredLabel']).toarray()\n",
    "\treturn cdist(word_array, word_array).mean()\n",
    "\n"
   ]
  },
  {
   "cell_type": "markdown",
   "metadata": {},
   "source": [
    "### Distribution of clusters:\n",
    "As we can see, the average number of dissimilar words in the clusters is 1.7, with a min and max of 0.7-2.9. I believe this is reasonably good."
   ]
  },
  {
   "cell_type": "code",
   "execution_count": 19,
   "metadata": {},
   "outputs": [
    {
     "name": "stdout",
     "output_type": "stream",
     "text": [
      "DescribeResult(nobs=368, minmax=(0.7071067811865476, 2.8511021970961608), mean=1.6640902468278405, variance=0.097114321228966, skewness=0.18446681395252323, kurtosis=0.7697308648251724)\n",
      "\n"
     ]
    },
    {
     "data": {
      "image/png": "[encoded data removed]",
      "text/plain": [
       "<Figure size 432x288 with 1 Axes>"
      ]
     },
     "metadata": {
      "needs_background": "light"
     },
     "output_type": "display_data"
    }
   ],
   "source": [
    "score = job_codes.groupby('codes').apply(solution_scorer).values\n",
    "\n",
    "print(st.describe(score), end = '\\n\\n')\n",
    "plt.hist(score)\n",
    "plt.title('Distribution of average dissimlar word count in clusters')\n",
    "plt.xlabel('Count of dissimlar words')\n",
    "plt.ylabel('Frequency')\n",
    "plt.show()"
   ]
  },
  {
   "cell_type": "markdown",
   "metadata": {},
   "source": [
    "### Size of clusters:\n",
    "As we can see, the size of a cluster is 8, with a min and max of 2 and 25 respectively. This again seems acceptable to me."
   ]
  },
  {
   "cell_type": "code",
   "execution_count": 20,
   "metadata": {},
   "outputs": [
    {
     "name": "stdout",
     "output_type": "stream",
     "text": [
      "DescribeResult(nobs=368, minmax=(2, 25), mean=7.994565217391305, variance=19.024493543419027, skewness=1.260418554234742, kurtosis=1.091423129826251)\n",
      "\n"
     ]
    },
    {
     "data": {
      "image/png": "[encoded data removed]",
      "text/plain": [
       "<Figure size 432x288 with 1 Axes>"
      ]
     },
     "metadata": {
      "needs_background": "light"
     },
     "output_type": "display_data"
    }
   ],
   "source": [
    "cluster_counts = job_codes.groupby('codes').count().values.flatten()\n",
    "\n",
    "print(st.describe(cluster_counts), end = '\\n\\n')\n",
    "plt.hist(cluster_counts)\n",
    "plt.title('Distribution of cluster sizes')\n",
    "plt.xlabel('Number of jobs in each class')\n",
    "plt.ylabel('Frequency')\n",
    "plt.show()"
   ]
  },
  {
   "cell_type": "markdown",
   "metadata": {},
   "source": [
    "These are very simple metrics of success but they appear to work"
   ]
  },
  {
   "cell_type": "markdown",
   "metadata": {},
   "source": [
    "# Conclusion\n",
    "It seems that it is possible to cluster the jobs by making use of essential skills, optional skills and the job descriptions. The job title differences in the clusters are relatively small, suggesting that the clustering is a success. Obviously future work needs to be put into the finding optimal weighting for the essential skills, optional skills and the descriptions. Additionally, it may be prudent to use differing values of K when clustering, not just 10."
   ]
  }
 ],
 "metadata": {
  "kernelspec": {
   "display_name": "Python 3",
   "language": "python",
   "name": "python3"
  },
  "language_info": {
   "codemirror_mode": {
    "name": "ipython",
    "version": 3
   },
   "file_extension": ".py",
   "mimetype": "text/x-python",
   "name": "python",
   "nbconvert_exporter": "python",
   "pygments_lexer": "ipython3",
   "version": "3.7.4"
  }
 },
 "nbformat": 4,
 "nbformat_minor": 2
}
